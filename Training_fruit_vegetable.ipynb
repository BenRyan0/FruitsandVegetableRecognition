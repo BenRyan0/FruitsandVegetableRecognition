{
 "cells": [
  {
   "cell_type": "markdown",
   "metadata": {
    "id": "BeB10ZMav-SW"
   },
   "source": [
    "#Importing Dataset"
   ]
  },
  {
   "cell_type": "markdown",
   "metadata": {
    "id": "5vUbBvinu8zW"
   },
   "source": [
    "#Importing libraries"
   ]
  },
  {
   "cell_type": "code",
   "execution_count": 37,
   "metadata": {
    "id": "4JsejDm3uxTS"
   },
   "outputs": [],
   "source": [
    "import tensorflow as tf\n",
    "import matplotlib.pyplot as plt"
   ]
  },
  {
   "cell_type": "markdown",
   "metadata": {
    "id": "i2w52yYrvTu9"
   },
   "source": [
    "#Data Preprocessing"
   ]
  },
  {
   "cell_type": "markdown",
   "metadata": {
    "id": "vU3NlcKCwlIZ"
   },
   "source": [
    "##Training Image preprocessing"
   ]
  },
  {
   "cell_type": "code",
   "execution_count": 38,
   "metadata": {
    "colab": {
     "base_uri": "https://localhost:8080/"
    },
    "id": "Kjoa0oUHvQAv",
    "outputId": "35053f0d-5fd0-4b98-cd8f-fa0a88a79e8f"
   },
   "outputs": [
    {
     "name": "stdout",
     "output_type": "stream",
     "text": [
      "Found 3115 files belonging to 36 classes.\n"
     ]
    }
   ],
   "source": [
    "training_set = tf.keras.utils.image_dataset_from_directory(\n",
    "   'train',\n",
    "    labels=\"inferred\",\n",
    "    label_mode=\"categorical\",\n",
    "    class_names=None,\n",
    "    color_mode=\"rgb\",\n",
    "    batch_size=32,\n",
    "    image_size=(64, 64),\n",
    "    shuffle=True,\n",
    "    seed=None,\n",
    "    validation_split=None,\n",
    "    subset=None,\n",
    "    interpolation=\"bilinear\",\n",
    "    follow_links=False,\n",
    "    crop_to_aspect_ratio=False\n",
    ")"
   ]
  },
  {
   "cell_type": "markdown",
   "metadata": {
    "id": "nK9Ev76o0mdJ"
   },
   "source": [
    "##Validation Image Preprocessing"
   ]
  },
  {
   "cell_type": "code",
   "execution_count": 39,
   "metadata": {
    "colab": {
     "base_uri": "https://localhost:8080/"
    },
    "id": "Tocls4IowkNB",
    "outputId": "3b0d8b3d-8552-4e0f-c1f2-7c9f7e28a944"
   },
   "outputs": [
    {
     "name": "stdout",
     "output_type": "stream",
     "text": [
      "Found 351 files belonging to 36 classes.\n"
     ]
    }
   ],
   "source": [
    "validation_set = tf.keras.utils.image_dataset_from_directory(\n",
    "    'validation',\n",
    "    labels=\"inferred\",\n",
    "    label_mode=\"categorical\",\n",
    "    class_names=None,\n",
    "    color_mode=\"rgb\",\n",
    "    batch_size=32,\n",
    "    image_size=(64, 64),\n",
    "    shuffle=True,\n",
    "    seed=None,\n",
    "    validation_split=None,\n",
    "    subset=None,\n",
    "    interpolation=\"bilinear\",\n",
    "    follow_links=False,\n",
    "    crop_to_aspect_ratio=False\n",
    ")"
   ]
  },
  {
   "cell_type": "markdown",
   "metadata": {
    "id": "OQ_TcbD7r2Cw"
   },
   "source": [
    "#Building Model"
   ]
  },
  {
   "cell_type": "code",
   "execution_count": 40,
   "metadata": {
    "id": "cUMiJrPvsBTU"
   },
   "outputs": [],
   "source": [
    "cnn = tf.keras.models.Sequential()"
   ]
  },
  {
   "cell_type": "markdown",
   "metadata": {
    "id": "mgFWYq7ssLkV"
   },
   "source": [
    "##Building Convolution Layer"
   ]
  },
  {
   "cell_type": "code",
   "execution_count": 41,
   "metadata": {
    "id": "LoaODWuZrHFg"
   },
   "outputs": [],
   "source": [
    "cnn.add(tf.keras.layers.Conv2D(filters=32,kernel_size=3,padding='same',activation='relu',input_shape=[64,64,3]))\n",
    "cnn.add(tf.keras.layers.Conv2D(filters=32,kernel_size=3,activation='relu'))\n",
    "cnn.add(tf.keras.layers.MaxPool2D(pool_size=2,strides=2))"
   ]
  },
  {
   "cell_type": "code",
   "execution_count": 42,
   "metadata": {
    "id": "b5-b7yo8mJHq"
   },
   "outputs": [],
   "source": [
    "cnn.add(tf.keras.layers.Dropout(0.25))"
   ]
  },
  {
   "cell_type": "code",
   "execution_count": 43,
   "metadata": {
    "id": "5-potKmKsOr2"
   },
   "outputs": [],
   "source": [
    "cnn.add(tf.keras.layers.Conv2D(filters=64,kernel_size=3,padding='same',activation='relu'))\n",
    "cnn.add(tf.keras.layers.Conv2D(filters=64,kernel_size=3,activation='relu'))\n",
    "cnn.add(tf.keras.layers.MaxPool2D(pool_size=2,strides=2))"
   ]
  },
  {
   "cell_type": "code",
   "execution_count": 44,
   "metadata": {
    "id": "0B29AmGWmZeV"
   },
   "outputs": [],
   "source": [
    "cnn.add(tf.keras.layers.Dropout(0.25))"
   ]
  },
  {
   "cell_type": "code",
   "execution_count": 45,
   "metadata": {
    "id": "NPZ2NGthuTv5"
   },
   "outputs": [],
   "source": [
    "cnn.add(tf.keras.layers.Flatten())"
   ]
  },
  {
   "cell_type": "code",
   "execution_count": 46,
   "metadata": {
    "id": "demjWjcWuc3q"
   },
   "outputs": [],
   "source": [
    "cnn.add(tf.keras.layers.Dense(units=512,activation='relu'))"
   ]
  },
  {
   "cell_type": "code",
   "execution_count": 47,
   "metadata": {
    "id": "_cD4jLBauZtk"
   },
   "outputs": [],
   "source": [
    "cnn.add(tf.keras.layers.Dense(units=256,activation='relu'))"
   ]
  },
  {
   "cell_type": "code",
   "execution_count": 48,
   "metadata": {
    "id": "2onuZO6YuBF3"
   },
   "outputs": [],
   "source": [
    "cnn.add(tf.keras.layers.Dropout(0.5)) #To avoid overfitting"
   ]
  },
  {
   "cell_type": "code",
   "execution_count": 49,
   "metadata": {
    "id": "toAqflkCuwoS"
   },
   "outputs": [],
   "source": [
    "#Output Layer\n",
    "cnn.add(tf.keras.layers.Dense(units=36,activation='softmax'))"
   ]
  },
  {
   "cell_type": "markdown",
   "metadata": {
    "id": "sYYdAFZDvt1P"
   },
   "source": [
    "#Compiling and Training Phase"
   ]
  },
  {
   "cell_type": "code",
   "execution_count": 50,
   "metadata": {
    "id": "yAcyiEfVvVzw"
   },
   "outputs": [],
   "source": [
    "cnn.compile(optimizer='adam',loss='categorical_crossentropy',metrics=['accuracy'])"
   ]
  },
  {
   "cell_type": "code",
   "execution_count": 51,
   "metadata": {
    "colab": {
     "base_uri": "https://localhost:8080/"
    },
    "id": "X0MROJsdlC5Z",
    "outputId": "59099315-950c-4546-d62d-626f4ca3b80d"
   },
   "outputs": [
    {
     "name": "stdout",
     "output_type": "stream",
     "text": [
      "Model: \"sequential_2\"\n",
      "_________________________________________________________________\n",
      " Layer (type)                Output Shape              Param #   \n",
      "=================================================================\n",
      " conv2d_4 (Conv2D)           (None, 64, 64, 32)        896       \n",
      "                                                                 \n",
      " conv2d_5 (Conv2D)           (None, 62, 62, 32)        9248      \n",
      "                                                                 \n",
      " max_pooling2d_2 (MaxPoolin  (None, 31, 31, 32)        0         \n",
      " g2D)                                                            \n",
      "                                                                 \n",
      " dropout_3 (Dropout)         (None, 31, 31, 32)        0         \n",
      "                                                                 \n",
      " conv2d_6 (Conv2D)           (None, 31, 31, 64)        18496     \n",
      "                                                                 \n",
      " conv2d_7 (Conv2D)           (None, 29, 29, 64)        36928     \n",
      "                                                                 \n",
      " max_pooling2d_3 (MaxPoolin  (None, 14, 14, 64)        0         \n",
      " g2D)                                                            \n",
      "                                                                 \n",
      " dropout_4 (Dropout)         (None, 14, 14, 64)        0         \n",
      "                                                                 \n",
      " flatten_1 (Flatten)         (None, 12544)             0         \n",
      "                                                                 \n",
      " dense_3 (Dense)             (None, 512)               6423040   \n",
      "                                                                 \n",
      " dense_4 (Dense)             (None, 256)               131328    \n",
      "                                                                 \n",
      " dropout_5 (Dropout)         (None, 256)               0         \n",
      "                                                                 \n",
      " dense_5 (Dense)             (None, 36)                9252      \n",
      "                                                                 \n",
      "=================================================================\n",
      "Total params: 6629188 (25.29 MB)\n",
      "Trainable params: 6629188 (25.29 MB)\n",
      "Non-trainable params: 0 (0.00 Byte)\n",
      "_________________________________________________________________\n"
     ]
    }
   ],
   "source": [
    "cnn.summary()"
   ]
  },
  {
   "cell_type": "code",
   "execution_count": 52,
   "metadata": {
    "colab": {
     "base_uri": "https://localhost:8080/"
    },
    "id": "K3W4dNUrvxIw",
    "outputId": "c4d220dc-40d6-438e-b940-751b3e85b037"
   },
   "outputs": [
    {
     "name": "stdout",
     "output_type": "stream",
     "text": [
      "Epoch 1/32\n",
      "98/98 [==============================] - 36s 334ms/step - loss: 9.6158 - accuracy: 0.0263 - val_loss: 3.5833 - val_accuracy: 0.0285\n",
      "Epoch 2/32\n",
      "98/98 [==============================] - 32s 314ms/step - loss: 3.5819 - accuracy: 0.0273 - val_loss: 3.5791 - val_accuracy: 0.0285\n",
      "Epoch 3/32\n",
      "98/98 [==============================] - 32s 314ms/step - loss: 3.5724 - accuracy: 0.0350 - val_loss: 3.5551 - val_accuracy: 0.0399\n",
      "Epoch 4/32\n",
      "98/98 [==============================] - 33s 315ms/step - loss: 3.5363 - accuracy: 0.0491 - val_loss: 3.5520 - val_accuracy: 0.0370\n",
      "Epoch 5/32\n",
      "98/98 [==============================] - 33s 315ms/step - loss: 3.4781 - accuracy: 0.0568 - val_loss: 3.3248 - val_accuracy: 0.1311\n",
      "Epoch 6/32\n",
      "98/98 [==============================] - 37s 358ms/step - loss: 3.3818 - accuracy: 0.0735 - val_loss: 3.4059 - val_accuracy: 0.1168\n",
      "Epoch 7/32\n",
      "98/98 [==============================] - 33s 315ms/step - loss: 3.3016 - accuracy: 0.0931 - val_loss: 3.0420 - val_accuracy: 0.1795\n",
      "Epoch 8/32\n",
      "98/98 [==============================] - 36s 353ms/step - loss: 3.2023 - accuracy: 0.1133 - val_loss: 2.9704 - val_accuracy: 0.2108\n",
      "Epoch 9/32\n",
      "98/98 [==============================] - 32s 314ms/step - loss: 3.0833 - accuracy: 0.1441 - val_loss: 2.5698 - val_accuracy: 0.3134\n",
      "Epoch 10/32\n",
      "98/98 [==============================] - 33s 317ms/step - loss: 2.9423 - accuracy: 0.1717 - val_loss: 2.3679 - val_accuracy: 0.3276\n",
      "Epoch 11/32\n",
      "98/98 [==============================] - 32s 315ms/step - loss: 2.8504 - accuracy: 0.1997 - val_loss: 2.2609 - val_accuracy: 0.3989\n",
      "Epoch 12/32\n",
      "98/98 [==============================] - 35s 341ms/step - loss: 2.7176 - accuracy: 0.2421 - val_loss: 2.0481 - val_accuracy: 0.4188\n",
      "Epoch 13/32\n",
      "98/98 [==============================] - 32s 314ms/step - loss: 2.5719 - accuracy: 0.2677 - val_loss: 1.7891 - val_accuracy: 0.5442\n",
      "Epoch 14/32\n",
      "98/98 [==============================] - 32s 315ms/step - loss: 2.3463 - accuracy: 0.3319 - val_loss: 1.6207 - val_accuracy: 0.6553\n",
      "Epoch 15/32\n",
      "98/98 [==============================] - 35s 346ms/step - loss: 2.1907 - accuracy: 0.3705 - val_loss: 1.3137 - val_accuracy: 0.7179\n",
      "Epoch 16/32\n",
      "98/98 [==============================] - 32s 314ms/step - loss: 2.0006 - accuracy: 0.4379 - val_loss: 1.2661 - val_accuracy: 0.7293\n",
      "Epoch 17/32\n",
      "98/98 [==============================] - 36s 354ms/step - loss: 1.8038 - accuracy: 0.4770 - val_loss: 1.0127 - val_accuracy: 0.7578\n",
      "Epoch 18/32\n",
      "98/98 [==============================] - 33s 315ms/step - loss: 1.6466 - accuracy: 0.5152 - val_loss: 1.0085 - val_accuracy: 0.7863\n",
      "Epoch 19/32\n",
      "98/98 [==============================] - 35s 342ms/step - loss: 1.5643 - accuracy: 0.5560 - val_loss: 0.7844 - val_accuracy: 0.8262\n",
      "Epoch 20/32\n",
      "98/98 [==============================] - 33s 320ms/step - loss: 1.3612 - accuracy: 0.6022 - val_loss: 0.7195 - val_accuracy: 0.8405\n",
      "Epoch 21/32\n",
      "98/98 [==============================] - 35s 340ms/step - loss: 1.2689 - accuracy: 0.6404 - val_loss: 0.9453 - val_accuracy: 0.7949\n",
      "Epoch 22/32\n",
      "98/98 [==============================] - 32s 314ms/step - loss: 1.1697 - accuracy: 0.6648 - val_loss: 0.8358 - val_accuracy: 0.7949\n",
      "Epoch 23/32\n",
      "98/98 [==============================] - 36s 353ms/step - loss: 1.0408 - accuracy: 0.6970 - val_loss: 0.7883 - val_accuracy: 0.8405\n",
      "Epoch 24/32\n",
      "98/98 [==============================] - 33s 318ms/step - loss: 0.9896 - accuracy: 0.7194 - val_loss: 0.6548 - val_accuracy: 0.8632\n",
      "Epoch 25/32\n",
      "98/98 [==============================] - 35s 342ms/step - loss: 0.9514 - accuracy: 0.7233 - val_loss: 0.5981 - val_accuracy: 0.9003\n",
      "Epoch 26/32\n",
      "98/98 [==============================] - 33s 316ms/step - loss: 0.8180 - accuracy: 0.7621 - val_loss: 0.6066 - val_accuracy: 0.8974\n",
      "Epoch 27/32\n",
      "98/98 [==============================] - 35s 340ms/step - loss: 0.7972 - accuracy: 0.7701 - val_loss: 0.5665 - val_accuracy: 0.8832\n",
      "Epoch 28/32\n",
      "98/98 [==============================] - 33s 317ms/step - loss: 0.6965 - accuracy: 0.7968 - val_loss: 0.6357 - val_accuracy: 0.8889\n",
      "Epoch 29/32\n",
      "98/98 [==============================] - 37s 359ms/step - loss: 0.6073 - accuracy: 0.8193 - val_loss: 0.7279 - val_accuracy: 0.9031\n",
      "Epoch 30/32\n",
      "98/98 [==============================] - 33s 325ms/step - loss: 0.6070 - accuracy: 0.8222 - val_loss: 0.5745 - val_accuracy: 0.8974\n",
      "Epoch 31/32\n",
      "98/98 [==============================] - 34s 322ms/step - loss: 0.6039 - accuracy: 0.8305 - val_loss: 0.6018 - val_accuracy: 0.9031\n",
      "Epoch 32/32\n",
      "98/98 [==============================] - 35s 344ms/step - loss: 0.5465 - accuracy: 0.8507 - val_loss: 0.5223 - val_accuracy: 0.9288\n"
     ]
    }
   ],
   "source": [
    "training_history = cnn.fit(x=training_set,validation_data=validation_set,epochs=32)"
   ]
  },
  {
   "cell_type": "markdown",
   "metadata": {
    "id": "19E3mwj1phoW"
   },
   "source": [
    "##Evaluating Model"
   ]
  },
  {
   "cell_type": "code",
   "execution_count": 53,
   "metadata": {
    "colab": {
     "base_uri": "https://localhost:8080/"
    },
    "id": "iY6o3uxjpgl5",
    "outputId": "372a2b25-5cdd-47c0-da77-1e9a5ee84f6c"
   },
   "outputs": [
    {
     "name": "stdout",
     "output_type": "stream",
     "text": [
      "98/98 [==============================] - 20s 188ms/step - loss: 0.2121 - accuracy: 0.9448\n",
      "Training accuracy: 0.9447833299636841\n"
     ]
    }
   ],
   "source": [
    "#Training set Accuracy\n",
    "train_loss, train_acc = cnn.evaluate(training_set)\n",
    "print('Training accuracy:', train_acc)"
   ]
  },
  {
   "cell_type": "code",
   "execution_count": 54,
   "metadata": {
    "colab": {
     "base_uri": "https://localhost:8080/"
    },
    "id": "5SaQgd7bpgwl",
    "outputId": "0e82ce04-bdf8-4b31-bc00-cbb7198df7e7"
   },
   "outputs": [
    {
     "name": "stdout",
     "output_type": "stream",
     "text": [
      "11/11 [==============================] - 3s 50ms/step - loss: 0.5223 - accuracy: 0.9288\n",
      "Validation accuracy: 0.9287749528884888\n"
     ]
    }
   ],
   "source": [
    "#Validation set Accuracy\n",
    "val_loss, val_acc = cnn.evaluate(validation_set)\n",
    "print('Validation accuracy:', val_acc)"
   ]
  },
  {
   "cell_type": "markdown",
   "metadata": {
    "id": "Qxp0xsjVBGec"
   },
   "source": [
    "##Saving Model"
   ]
  },
  {
   "cell_type": "code",
   "execution_count": 55,
   "metadata": {
    "id": "EEUrBzCrxKt_"
   },
   "outputs": [],
   "source": [
    "cnn.save('trained_model.h5')"
   ]
  },
  {
   "cell_type": "code",
   "execution_count": 56,
   "metadata": {},
   "outputs": [],
   "source": [
    "# Save the model\n",
    "model_filename = 'trained_model.keras'\n",
    "cnn.save(model_filename)"
   ]
  },
  {
   "cell_type": "code",
   "execution_count": 57,
   "metadata": {},
   "outputs": [],
   "source": [
    "# Save the model\n",
    "model_filename = 'trained_model.h5'\n",
    "cnn.save(model_filename)"
   ]
  },
  {
   "cell_type": "code",
   "execution_count": 58,
   "metadata": {
    "colab": {
     "base_uri": "https://localhost:8080/"
    },
    "id": "BM-sILNMBwh1",
    "outputId": "3d1eb8a8-2742-4b1b-f8f3-10c1f0803975"
   },
   "outputs": [
    {
     "data": {
      "text/plain": [
       "{'loss': [9.6158447265625,\n",
       "  3.581859827041626,\n",
       "  3.5723843574523926,\n",
       "  3.53631591796875,\n",
       "  3.478114366531372,\n",
       "  3.381798028945923,\n",
       "  3.3015706539154053,\n",
       "  3.2022864818573,\n",
       "  3.083341121673584,\n",
       "  2.942261219024658,\n",
       "  2.8504364490509033,\n",
       "  2.717622756958008,\n",
       "  2.5719339847564697,\n",
       "  2.346268892288208,\n",
       "  2.1907479763031006,\n",
       "  2.0005640983581543,\n",
       "  1.8037711381912231,\n",
       "  1.6465953588485718,\n",
       "  1.5643211603164673,\n",
       "  1.3611818552017212,\n",
       "  1.2689279317855835,\n",
       "  1.169715166091919,\n",
       "  1.0408004522323608,\n",
       "  0.9895830750465393,\n",
       "  0.9514073729515076,\n",
       "  0.8180488348007202,\n",
       "  0.7972294092178345,\n",
       "  0.696528971195221,\n",
       "  0.6073046326637268,\n",
       "  0.606990396976471,\n",
       "  0.6038849949836731,\n",
       "  0.5465083718299866],\n",
       " 'accuracy': [0.026324236765503883,\n",
       "  0.0272873193025589,\n",
       "  0.034991975873708725,\n",
       "  0.04911717399954796,\n",
       "  0.056821830570697784,\n",
       "  0.07351525127887726,\n",
       "  0.09309791028499603,\n",
       "  0.11332263052463531,\n",
       "  0.14414125680923462,\n",
       "  0.17174959182739258,\n",
       "  0.19967897236347198,\n",
       "  0.24205458164215088,\n",
       "  0.2677367627620697,\n",
       "  0.33194220066070557,\n",
       "  0.370465487241745,\n",
       "  0.4378812313079834,\n",
       "  0.47704654932022095,\n",
       "  0.5152487754821777,\n",
       "  0.5560192465782166,\n",
       "  0.6022471785545349,\n",
       "  0.6404494643211365,\n",
       "  0.6648474931716919,\n",
       "  0.6969502568244934,\n",
       "  0.7194221615791321,\n",
       "  0.7232744693756104,\n",
       "  0.7621187567710876,\n",
       "  0.7701444625854492,\n",
       "  0.7967897057533264,\n",
       "  0.8192616105079651,\n",
       "  0.8221508860588074,\n",
       "  0.8304975628852844,\n",
       "  0.8507223129272461],\n",
       " 'val_loss': [3.58327317237854,\n",
       "  3.579113483428955,\n",
       "  3.5551159381866455,\n",
       "  3.5519731044769287,\n",
       "  3.324810028076172,\n",
       "  3.4058873653411865,\n",
       "  3.041954517364502,\n",
       "  2.9703869819641113,\n",
       "  2.569784164428711,\n",
       "  2.3678526878356934,\n",
       "  2.2609050273895264,\n",
       "  2.0481209754943848,\n",
       "  1.7890928983688354,\n",
       "  1.6206612586975098,\n",
       "  1.3137162923812866,\n",
       "  1.2661235332489014,\n",
       "  1.0127134323120117,\n",
       "  1.008470892906189,\n",
       "  0.7844342589378357,\n",
       "  0.7194904088973999,\n",
       "  0.9453418850898743,\n",
       "  0.8358058929443359,\n",
       "  0.7882927060127258,\n",
       "  0.654780387878418,\n",
       "  0.5981483459472656,\n",
       "  0.6065585017204285,\n",
       "  0.566478431224823,\n",
       "  0.6357102990150452,\n",
       "  0.7279266119003296,\n",
       "  0.574508786201477,\n",
       "  0.6018309593200684,\n",
       "  0.52228844165802],\n",
       " 'val_accuracy': [0.028490029275417328,\n",
       "  0.028490029275417328,\n",
       "  0.03988603875041008,\n",
       "  0.03703703731298447,\n",
       "  0.1310541331768036,\n",
       "  0.11680911481380463,\n",
       "  0.1794871836900711,\n",
       "  0.21082621812820435,\n",
       "  0.31339031457901,\n",
       "  0.3276353180408478,\n",
       "  0.3988603949546814,\n",
       "  0.4188034236431122,\n",
       "  0.5441595315933228,\n",
       "  0.6552706360816956,\n",
       "  0.7179487347602844,\n",
       "  0.7293447256088257,\n",
       "  0.7578347325325012,\n",
       "  0.7863247990608215,\n",
       "  0.8262107968330383,\n",
       "  0.8404558300971985,\n",
       "  0.7948718070983887,\n",
       "  0.7948718070983887,\n",
       "  0.8404558300971985,\n",
       "  0.8632478713989258,\n",
       "  0.9002848863601685,\n",
       "  0.8974359035491943,\n",
       "  0.8831908702850342,\n",
       "  0.8888888955116272,\n",
       "  0.9031339287757874,\n",
       "  0.8974359035491943,\n",
       "  0.9031339287757874,\n",
       "  0.9287749528884888]}"
      ]
     },
     "execution_count": 58,
     "metadata": {},
     "output_type": "execute_result"
    }
   ],
   "source": [
    "training_history.history #Return Dictionary of history"
   ]
  },
  {
   "cell_type": "code",
   "execution_count": 59,
   "metadata": {
    "id": "GdF3Ig4ZBU9V"
   },
   "outputs": [],
   "source": [
    "#Recording History in json\n",
    "import json\n",
    "with open('training_hist.json','w') as f:\n",
    "  json.dump(training_history.history,f)"
   ]
  },
  {
   "cell_type": "code",
   "execution_count": 60,
   "metadata": {
    "colab": {
     "base_uri": "https://localhost:8080/"
    },
    "id": "w8PnAYbuCNhu",
    "outputId": "665cd52d-4777-4e7e-9c04-cc7716c5fb62"
   },
   "outputs": [
    {
     "name": "stdout",
     "output_type": "stream",
     "text": [
      "dict_keys(['loss', 'accuracy', 'val_loss', 'val_accuracy'])\n"
     ]
    }
   ],
   "source": [
    "print(training_history.history.keys())"
   ]
  },
  {
   "cell_type": "markdown",
   "metadata": {
    "id": "ZwTEcIavCjZ8"
   },
   "source": [
    "##Calculating Accuracy of Model Achieved on Validation set"
   ]
  },
  {
   "cell_type": "code",
   "execution_count": 61,
   "metadata": {
    "colab": {
     "base_uri": "https://localhost:8080/"
    },
    "id": "Z8Q2t6FXCUzR",
    "outputId": "c4d17e44-87e0-4d1a-adf9-419e81c704ce"
   },
   "outputs": [
    {
     "name": "stdout",
     "output_type": "stream",
     "text": [
      "Validation set Accuracy: 92.87749528884888 %\n"
     ]
    }
   ],
   "source": [
    "print(\"Validation set Accuracy: {} %\".format(training_history.history['val_accuracy'][-1]*100))"
   ]
  },
  {
   "cell_type": "markdown",
   "metadata": {
    "id": "qNIMPXKFEZ5B"
   },
   "source": [
    "#Accuracy Visualization"
   ]
  },
  {
   "cell_type": "markdown",
   "metadata": {
    "id": "Mdg9Zjp2EfSa"
   },
   "source": [
    "##Training Visualization"
   ]
  },
  {
   "cell_type": "code",
   "execution_count": 62,
   "metadata": {
    "id": "fAvJjfBAFNJx"
   },
   "outputs": [],
   "source": [
    "#training_history.history['accuracy']"
   ]
  },
  {
   "cell_type": "code",
   "execution_count": 63,
   "metadata": {
    "colab": {
     "base_uri": "https://localhost:8080/",
     "height": 295
    },
    "id": "gfKdieuJCt3m",
    "outputId": "00c39bea-d59d-48bd-a9bb-f819e1313252"
   },
   "outputs": [
    {
     "data": {
      "image/png": "[encoded data removed]",
      "text/plain": [
       "<Figure size 640x480 with 1 Axes>"
      ]
     },
     "metadata": {},
     "output_type": "display_data"
    }
   ],
   "source": [
    "epochs = [i for i in range(1,33)]\n",
    "plt.plot(epochs,training_history.history['accuracy'],color='red')\n",
    "plt.xlabel('No. of Epochs')\n",
    "plt.ylabel('Traiining Accuracy')\n",
    "plt.title('Visualization of Training Accuracy Result')\n",
    "plt.show()"
   ]
  },
  {
   "cell_type": "markdown",
   "metadata": {
    "id": "FbOcpJL1FvJG"
   },
   "source": [
    "##Validation Accuracy"
   ]
  },
  {
   "cell_type": "code",
   "execution_count": 64,
   "metadata": {
    "colab": {
     "base_uri": "https://localhost:8080/",
     "height": 295
    },
    "id": "ZXyC9WAJEs-B",
    "outputId": "a7d14eba-7481-4b55-c7bb-a0e3821ee77e"
   },
   "outputs": [
    {
     "data": {
      "image/png": "[encoded data removed]",
      "text/plain": [
       "<Figure size 640x480 with 1 Axes>"
      ]
     },
     "metadata": {},
     "output_type": "display_data"
    }
   ],
   "source": [
    "plt.plot(epochs,training_history.history['val_accuracy'],color='blue')\n",
    "plt.xlabel('No. of Epochs')\n",
    "plt.ylabel('Validation Accuracy')\n",
    "plt.title('Visualization of Validation Accuracy Result')\n",
    "plt.show()"
   ]
  },
  {
   "cell_type": "code",
   "execution_count": null,
   "metadata": {
    "id": "6mB3DkYFEuRg"
   },
   "outputs": [],
   "source": []
  },
  {
   "cell_type": "markdown",
   "metadata": {
    "id": "IJfYwGbmASaL"
   },
   "source": [
    "##Test set Evaluation"
   ]
  },
  {
   "cell_type": "code",
   "execution_count": 65,
   "metadata": {
    "colab": {
     "base_uri": "https://localhost:8080/"
    },
    "id": "fGs_0S4AAUj_",
    "outputId": "6e85b3b3-0784-47c9-8001-f1d5213cdfd6"
   },
   "outputs": [
    {
     "name": "stdout",
     "output_type": "stream",
     "text": [
      "Found 359 files belonging to 36 classes.\n"
     ]
    }
   ],
   "source": [
    "test_set = tf.keras.utils.image_dataset_from_directory(\n",
    "    'test',\n",
    "    labels=\"inferred\",\n",
    "    label_mode=\"categorical\",\n",
    "    class_names=None,\n",
    "    color_mode=\"rgb\",\n",
    "    batch_size=32,\n",
    "    image_size=(64, 64),\n",
    "    shuffle=True,\n",
    "    seed=None,\n",
    "    validation_split=None,\n",
    "    subset=None,\n",
    "    interpolation=\"bilinear\",\n",
    "    follow_links=False,\n",
    "    crop_to_aspect_ratio=False\n",
    ")"
   ]
  },
  {
   "cell_type": "code",
   "execution_count": 66,
   "metadata": {
    "colab": {
     "base_uri": "https://localhost:8080/"
    },
    "id": "GdMcF4vnAYuM",
    "outputId": "773cc9ab-c1e7-4a0b-ecf0-ee0e1ee50efc"
   },
   "outputs": [
    {
     "name": "stdout",
     "output_type": "stream",
     "text": [
      "12/12 [==============================] - 3s 66ms/step - loss: 0.5108 - accuracy: 0.9304\n",
      "Test accuracy: 0.9303621053695679\n"
     ]
    }
   ],
   "source": [
    "test_loss,test_acc = cnn.evaluate(test_set)\n",
    "print('Test accuracy:', test_acc)"
   ]
  },
  {
   "cell_type": "code",
   "execution_count": null,
   "metadata": {
    "id": "MmHXzT0PAiOn"
   },
   "outputs": [],
   "source": []
  }
 ],
 "metadata": {
  "colab": {
   "provenance": []
  },
  "kernelspec": {
   "display_name": "Python 3 (ipykernel)",
   "language": "python",
   "name": "python3"
  },
  "language_info": {
   "codemirror_mode": {
    "name": "ipython",
    "version": 3
   },
   "file_extension": ".py",
   "mimetype": "text/x-python",
   "name": "python",
   "nbconvert_exporter": "python",
   "pygments_lexer": "ipython3",
   "version": "3.11.7"
  }
 },
 "nbformat": 4,
 "nbformat_minor": 4
}
